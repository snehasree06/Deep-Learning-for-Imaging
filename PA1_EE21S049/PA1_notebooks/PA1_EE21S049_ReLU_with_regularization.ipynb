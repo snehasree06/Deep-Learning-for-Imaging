{
 "cells": [
  {
   "cell_type": "code",
   "execution_count": 1,
   "id": "69ae1489",
   "metadata": {},
   "outputs": [],
   "source": [
    "import numpy as np\n",
    "import matplotlib.pyplot as plt\n",
    "import torch\n",
    "import torch.nn as nn \n",
    "import torchvision\n",
    "import torchvision.transforms as transforms"
   ]
  },
  {
   "cell_type": "code",
   "execution_count": 2,
   "id": "04a50af7",
   "metadata": {},
   "outputs": [
    {
     "name": "stdout",
     "output_type": "stream",
     "text": [
      "1.13.0.dev20220624\n"
     ]
    }
   ],
   "source": [
    "print(torch.__version__)"
   ]
  },
  {
   "cell_type": "code",
   "execution_count": 3,
   "id": "769ca2f4",
   "metadata": {},
   "outputs": [],
   "source": [
    "input_size = 784 # 28x28\n",
    "hidden_layer1= 500 \n",
    "hidden_layer2=250\n",
    "hidden_layer3=100\n",
    "num_classes = 10\n",
    "num_epochs = 15\n",
    "batch_size = 64\n",
    "learning_rate = 0.01\n"
   ]
  },
  {
   "cell_type": "code",
   "execution_count": 4,
   "id": "cb6203cf",
   "metadata": {},
   "outputs": [],
   "source": [
    "train_dataset = torchvision.datasets.MNIST(root='./data', train=True, transform=transforms.ToTensor(),  download=True)\n",
    "test_dataset = torchvision.datasets.MNIST(root='./data', train=False, transform=transforms.ToTensor())"
   ]
  },
  {
   "cell_type": "code",
   "execution_count": 5,
   "id": "c0dc432b",
   "metadata": {},
   "outputs": [],
   "source": [
    "def convert_to_onehot(labels,num_classes):\n",
    "    output = np.eye(num_classes)[np.array(labels).reshape(-1)]\n",
    "    return output.reshape(list(np.shape(labels))+[num_classes])"
   ]
  },
  {
   "cell_type": "code",
   "execution_count": 6,
   "id": "df3e3a27",
   "metadata": {},
   "outputs": [],
   "source": [
    "def sigmoid(x):\n",
    "    return 1/(1+np.exp(-x))\n",
    "\n",
    "def relu(x):\n",
    "    return np.maximum(0, x)\n",
    "\n",
    "def softmax(x):\n",
    "    return np.exp(x)/sum(np.exp(x))\n",
    "\n"
   ]
  },
  {
   "cell_type": "code",
   "execution_count": 7,
   "id": "713f4b7c",
   "metadata": {},
   "outputs": [],
   "source": [
    "def sigmoid_derivative(x):\n",
    "    return sigmoid(x) * (1- sigmoid(x))\n",
    "\n",
    "def relu_derivative(x):\n",
    "    return x>0\n",
    "\n",
    "def softmax_derivative(x):\n",
    "\n",
    "    return softmax(x)*(1-softmax(x))"
   ]
  },
  {
   "cell_type": "code",
   "execution_count": 8,
   "id": "3bccfe5d",
   "metadata": {},
   "outputs": [],
   "source": [
    "\n",
    "def init_weights(No,Ni):\n",
    "    M=np.sqrt(6/(Ni+No))\n",
    "    weights=np.asarray(np.random.uniform(-M, M, (No, Ni)), dtype=np.float64)\n",
    "    biases  = np.zeros((No,1))\n",
    "    return weights,biases"
   ]
  },
  {
   "cell_type": "code",
   "execution_count": 9,
   "id": "5630ea11",
   "metadata": {},
   "outputs": [],
   "source": [
    "def initialize_parameters(layers_dims):\n",
    "    w1,b1=init_weights(layers_dims[1],layers_dims[0])\n",
    "    w2,b2=init_weights(layers_dims[2],layers_dims[1])\n",
    "    w3,b3=init_weights(layers_dims[3],layers_dims[2])\n",
    "    w4,b4=init_weights(layers_dims[4],layers_dims[3])\n",
    "    parameters={\n",
    "    \"w1\":w1,\n",
    "    \"w2\":w2,\n",
    "    \"w3\":w3,\n",
    "    \"w4\":w4,\n",
    "    \"b1\":b1,\n",
    "    \"b2\":b2,\n",
    "    \"b3\":b3,\n",
    "    \"b4\":b4\n",
    "    }\n",
    "    return parameters"
   ]
  },
  {
   "cell_type": "code",
   "execution_count": 10,
   "id": "13beabbe",
   "metadata": {},
   "outputs": [],
   "source": [
    "def forward_propagation(X,parameters):\n",
    "    w1=parameters['w1']\n",
    "    b1=parameters['b1']\n",
    "    w2=parameters['w2']\n",
    "    b2=parameters['b2']\n",
    "    w3=parameters['w3']\n",
    "    b3=parameters['b3']\n",
    "    w4=parameters['w4']\n",
    "    b4=parameters['b4']\n",
    "    Z1=np.dot(w1,X.T)+b1\n",
    "    A1=relu(Z1)\n",
    "    Z2 = np.dot(w2,A1) + b2\n",
    "    A2=relu(Z2)\n",
    "    Z3 = np.dot(w3,A2) + b3\n",
    "    A3=relu(Z3)\n",
    "    Z4=np.dot(w4,A3)+b4\n",
    "    A4=softmax(Z4)\n",
    "    cache = {\n",
    "        \"Z1\" : Z1,\n",
    "        \"Z2\" : Z2,\n",
    "        \"Z3\" : Z3,\n",
    "        \"Z4\" : Z4,\n",
    "        \"A1\" : A1,\n",
    "        \"A2\" : A2,\n",
    "        \"A3\" : A3,\n",
    "        \"A4\" : A4,\n",
    "        \"w1\" : w1,\n",
    "        \"b1\" : b1,\n",
    "        \"w2\" : w2,\n",
    "        \"b2\" : b2,\n",
    "        \"w3\" : w3,\n",
    "        \"b3\" : b3,\n",
    "        \"w4\" : w4,\n",
    "        \"b4\" : b4  \n",
    "    }\n",
    "    return A4,cache"
   ]
  },
  {
   "cell_type": "code",
   "execution_count": 11,
   "id": "30c7fa71",
   "metadata": {},
   "outputs": [],
   "source": [
    "def compute_cost(A, Y):    \n",
    "    #A is predicted\n",
    "    #Y is actual\n",
    "    m = Y.shape[1] \n",
    "    logprobs = np.multiply(-np.log(A),Y) + np.multiply(-np.log(1 - A), 1 - Y)\n",
    "    cost = 1./m * np.nansum(logprobs)\n",
    "    return cost"
   ]
  },
  {
   "cell_type": "code",
   "execution_count": 12,
   "id": "8e8578a1",
   "metadata": {},
   "outputs": [],
   "source": [
    "\n",
    "def compute_cost_with_regularization(y_pred, y_actual, parameters, lambd):\n",
    "    m = y_actual.shape[1]\n",
    "    W1 = parameters[\"w1\"]\n",
    "    W2 = parameters[\"w2\"]\n",
    "    W3 = parameters[\"w3\"]\n",
    "    W4 = parameters[\"w4\"]\n",
    "    \n",
    "    cross_entropy_cost = compute_cost(y_pred, y_actual) # This gives you the cross-entropy part of the cost\n",
    "\n",
    "    W1_sum=np.sum(np.square(W1))\n",
    "    W2_sum=np.sum(np.square(W2))\n",
    "    W3_sum=np.sum(np.square(W3))\n",
    "    W4_sum=np.sum(np.square(W4))\n",
    "    L2_regularization_cost = (1/m)*(lambd/2)*(W1_sum+W2_sum+W3_sum+W4_sum)\n",
    "    \n",
    "    cost = cross_entropy_cost + L2_regularization_cost\n",
    "    \n",
    "    return cost"
   ]
  },
  {
   "cell_type": "code",
   "execution_count": 13,
   "id": "0b00a513",
   "metadata": {},
   "outputs": [],
   "source": [
    "def backward_propagation(X, Y, cache):\n",
    "    m = X.shape[1]\n",
    "    A4=cache['A4']\n",
    "    A3=cache['A3']\n",
    "    A2=cache['A2']\n",
    "    A1=cache['A1']\n",
    "    Z3=cache['Z3']\n",
    "    Z4=cache['Z4']\n",
    "    Z2=cache['Z2']\n",
    "    Z1=cache['Z1']\n",
    "    w1=cache['w1']\n",
    "    b1=cache['b1']\n",
    "    w2=cache['w2']\n",
    "    b2=cache['b2']\n",
    "    w3=cache['w3']\n",
    "    b3=cache['b3']\n",
    "    w4=cache['w4']\n",
    "    b4=cache['b4']\n",
    "\n",
    "    dZ4 = A4 - Y\n",
    "    dW4 = 1./m * np.dot(dZ4, A3.T)\n",
    "    db4 = 1./m * np.sum(dZ4, axis=1, keepdims = True)\n",
    "    \n",
    "    dA3 = np.dot(w4.T, dZ4)\n",
    "    dZ3 = np.multiply(dA3, np.int64(A3 > 0))\n",
    "    dW3 = 1./m * np.dot(dZ3, A2.T)\n",
    "    db3 = 1./m * np.sum(dZ3, axis=1, keepdims = True)\n",
    "    \n",
    "    dA2 = np.dot(w3.T, dZ3)\n",
    "    dZ2 = np.multiply(dA2, np.int64(A2 > 0))\n",
    "    dW2 = 1./m * np.dot(dZ2, A1.T)\n",
    "    db2 = 1./m * np.sum(dZ2, axis=1, keepdims = True)\n",
    "\n",
    "    dA1 = np.dot(w2.T, dZ2)\n",
    "    dZ1 = np.multiply(dA1, np.int64(A1 > 0))\n",
    "    dW1 = 1./m * np.dot(dZ1, X)\n",
    "    db1 = 1./m * np.sum(dZ1, axis=1, keepdims = True)\n",
    "\n",
    "    \n",
    "    gradients = {\"dZ4\": dZ4, \"dW4\": dW4, \"db4\": db4,\n",
    "                 \"dA3\": dA3, \"dZ3\": dZ3, \"dW3\": dW3, \"db3\": db3,\n",
    "                 \"dA2\": dA2, \"dZ2\": dZ2, \"dW2\": dW2, \"db2\": db2,\n",
    "                 \"dA1\": dA1, \"dZ1\": dZ1, \"dW1\": dW1, \"db1\": db1}\n",
    "    \n",
    "    return gradients"
   ]
  },
  {
   "cell_type": "code",
   "execution_count": 14,
   "id": "d431ef48",
   "metadata": {},
   "outputs": [],
   "source": [
    "def update_parameter(parameters,gradients,learning_rate):\n",
    "    w1=parameters['w1']\n",
    "    b1=parameters['b1']\n",
    "    w2=parameters['w2']\n",
    "    b2=parameters['b2']\n",
    "    w3=parameters['w3']\n",
    "    b3=parameters['b3']\n",
    "    w4=parameters['w4']\n",
    "    b4=parameters['b4']\n",
    "    dW1=gradients['dW1']\n",
    "    db1=gradients['db1']\n",
    "    dW2=gradients['dW2']\n",
    "    db2=gradients['db2']\n",
    "    dW3=gradients['dW3']\n",
    "    db3=gradients['db3']\n",
    "    dW4=gradients['dW4']\n",
    "    db4=gradients['db4']\n",
    "    w1 = w1 - learning_rate * dW1\n",
    "    b1 = b1 - learning_rate * db1\n",
    "    w2 = w2 - learning_rate * dW2\n",
    "    b2 = b2 - learning_rate * db2\n",
    "    w3 = w3 - learning_rate * dW3\n",
    "    b3 = b3 - learning_rate * db3\n",
    "    w4 = w4 - learning_rate * dW4\n",
    "    b4 = b4 - learning_rate * db4\n",
    "    \n",
    "    updated_parameters={\n",
    "    \"w1\":w1,\n",
    "    \"w2\":w2,\n",
    "    \"w3\":w3,\n",
    "    \"w4\":w4,\n",
    "    \"b1\":b1,\n",
    "    \"b2\":b2,\n",
    "    \"b3\":b3,\n",
    "    \"b4\":b4\n",
    "    }\n",
    "    return updated_parameters"
   ]
  },
  {
   "cell_type": "code",
   "execution_count": 15,
   "id": "1d6b794e",
   "metadata": {},
   "outputs": [],
   "source": [
    "def find_accuracy(y_actual,y_pred):\n",
    "    accuracy = np.count_nonzero(np.argmax(y_pred,axis=0)==np.argmax(y_actual,axis=1))/y_actual.shape[0]\n",
    "    return accuracy"
   ]
  },
  {
   "cell_type": "code",
   "execution_count": 16,
   "id": "338e2db1",
   "metadata": {},
   "outputs": [],
   "source": [
    "def predict(X,Y,parameters):\n",
    "    y_pred,cache=forward_propagation(X,parameters)\n",
    "    return y_pred"
   ]
  },
  {
   "cell_type": "code",
   "execution_count": 17,
   "id": "329044fd",
   "metadata": {},
   "outputs": [],
   "source": [
    "def model1(dataset,layers_dims,num_epochs):\n",
    "    m=len(dataset)\n",
    "    num_batches=m/batch_size\n",
    "    parameters=initialize_parameters(layers_dims)\n",
    "    costs=[]\n",
    "    acc=[]\n",
    "    for epoch in range(num_epochs):\n",
    "        for i in range(int(num_batches)):\n",
    "            # Data loader\n",
    "            loader = torch.utils.data.DataLoader(dataset=dataset,batch_size = batch_size ,shuffle=True)\n",
    "            dataiter = iter(loader)\n",
    "            data = next(dataiter)\n",
    "            X,y = data\n",
    "            X=X.numpy()\n",
    "            y=y.numpy()\n",
    "            # Flatten the images\n",
    "            image_vector_size = 28*28\n",
    "            X = X.reshape(X.shape[0], image_vector_size)\n",
    "            y_one_hot=convert_to_onehot(y,num_classes)\n",
    "            y_pred,cache=forward_propagation(X,parameters)\n",
    "#             cost=compute_cost(y_pred,y_one_hot.T)\n",
    "            cost=compute_cost_with_regularization(y_pred,y_one_hot.T,parameters,0.1)\n",
    "            gradients=backward_propagation(X,y_one_hot.T,cache)\n",
    "            parameters=update_parameter(parameters,gradients,learning_rate)\n",
    "            if(i%200==0):\n",
    "                print (f'Epoch [{epoch+1}/{num_epochs}], Step [{i+1}/{int(num_batches)}], Loss: {cost.item():.4f}')\n",
    "                costs.append(cost)\n",
    "                acc.append(find_accuracy(y_one_hot,y_pred))\n",
    "    return acc,costs,parameters\n",
    "\n"
   ]
  },
  {
   "cell_type": "code",
   "execution_count": 18,
   "id": "3d99e5d8",
   "metadata": {},
   "outputs": [
    {
     "name": "stdout",
     "output_type": "stream",
     "text": [
      "Epoch [1/15], Step [1/937], Loss: 4.1168\n",
      "Epoch [1/15], Step [201/937], Loss: 4.0239\n",
      "Epoch [1/15], Step [401/937], Loss: 3.9594\n",
      "Epoch [1/15], Step [601/937], Loss: 3.8228\n",
      "Epoch [1/15], Step [801/937], Loss: 3.8374\n",
      "Epoch [2/15], Step [1/937], Loss: 3.7253\n",
      "Epoch [2/15], Step [201/937], Loss: 3.5923\n",
      "Epoch [2/15], Step [401/937], Loss: 3.5262\n",
      "Epoch [2/15], Step [601/937], Loss: 3.2318\n",
      "Epoch [2/15], Step [801/937], Loss: 3.2173\n",
      "Epoch [3/15], Step [1/937], Loss: 3.0833\n",
      "Epoch [3/15], Step [201/937], Loss: 2.8418\n",
      "Epoch [3/15], Step [401/937], Loss: 2.8800\n",
      "Epoch [3/15], Step [601/937], Loss: 2.7011\n",
      "Epoch [3/15], Step [801/937], Loss: 2.4109\n",
      "Epoch [4/15], Step [1/937], Loss: 2.5478\n",
      "Epoch [4/15], Step [201/937], Loss: 2.3272\n",
      "Epoch [4/15], Step [401/937], Loss: 2.3446\n",
      "Epoch [4/15], Step [601/937], Loss: 2.1354\n",
      "Epoch [4/15], Step [801/937], Loss: 2.0323\n",
      "Epoch [5/15], Step [1/937], Loss: 2.0020\n",
      "Epoch [5/15], Step [201/937], Loss: 2.0453\n",
      "Epoch [5/15], Step [401/937], Loss: 2.1041\n",
      "Epoch [5/15], Step [601/937], Loss: 2.0672\n",
      "Epoch [5/15], Step [801/937], Loss: 2.0482\n",
      "Epoch [6/15], Step [1/937], Loss: 1.9054\n",
      "Epoch [6/15], Step [201/937], Loss: 1.8334\n",
      "Epoch [6/15], Step [401/937], Loss: 1.7636\n",
      "Epoch [6/15], Step [601/937], Loss: 1.7188\n",
      "Epoch [6/15], Step [801/937], Loss: 1.8389\n",
      "Epoch [7/15], Step [1/937], Loss: 1.6892\n",
      "Epoch [7/15], Step [201/937], Loss: 1.6664\n",
      "Epoch [7/15], Step [401/937], Loss: 1.6194\n",
      "Epoch [7/15], Step [601/937], Loss: 1.5147\n",
      "Epoch [7/15], Step [801/937], Loss: 1.7080\n",
      "Epoch [8/15], Step [1/937], Loss: 1.5646\n",
      "Epoch [8/15], Step [201/937], Loss: 1.8452\n",
      "Epoch [8/15], Step [401/937], Loss: 1.6815\n",
      "Epoch [8/15], Step [601/937], Loss: 1.3113\n",
      "Epoch [8/15], Step [801/937], Loss: 1.6833\n",
      "Epoch [9/15], Step [1/937], Loss: 1.6475\n",
      "Epoch [9/15], Step [201/937], Loss: 1.6404\n",
      "Epoch [9/15], Step [401/937], Loss: 1.4276\n",
      "Epoch [9/15], Step [601/937], Loss: 1.6592\n",
      "Epoch [9/15], Step [801/937], Loss: 1.7739\n",
      "Epoch [10/15], Step [1/937], Loss: 1.5463\n",
      "Epoch [10/15], Step [201/937], Loss: 1.8666\n",
      "Epoch [10/15], Step [401/937], Loss: 1.4242\n",
      "Epoch [10/15], Step [601/937], Loss: 1.3108\n",
      "Epoch [10/15], Step [801/937], Loss: 1.6921\n",
      "Epoch [11/15], Step [1/937], Loss: 1.5098\n",
      "Epoch [11/15], Step [201/937], Loss: 1.6009\n",
      "Epoch [11/15], Step [401/937], Loss: 1.4170\n",
      "Epoch [11/15], Step [601/937], Loss: 1.5319\n",
      "Epoch [11/15], Step [801/937], Loss: 1.8005\n",
      "Epoch [12/15], Step [1/937], Loss: 1.4221\n",
      "Epoch [12/15], Step [201/937], Loss: 1.6039\n",
      "Epoch [12/15], Step [401/937], Loss: 1.5619\n",
      "Epoch [12/15], Step [601/937], Loss: 1.4647\n",
      "Epoch [12/15], Step [801/937], Loss: 1.3504\n",
      "Epoch [13/15], Step [1/937], Loss: 1.2759\n",
      "Epoch [13/15], Step [201/937], Loss: 1.3347\n",
      "Epoch [13/15], Step [401/937], Loss: 1.2519\n",
      "Epoch [13/15], Step [601/937], Loss: 1.2744\n",
      "Epoch [13/15], Step [801/937], Loss: 1.3419\n",
      "Epoch [14/15], Step [1/937], Loss: 1.5163\n",
      "Epoch [14/15], Step [201/937], Loss: 1.4054\n",
      "Epoch [14/15], Step [401/937], Loss: 1.6203\n",
      "Epoch [14/15], Step [601/937], Loss: 1.2714\n",
      "Epoch [14/15], Step [801/937], Loss: 1.4022\n",
      "Epoch [15/15], Step [1/937], Loss: 1.5411\n",
      "Epoch [15/15], Step [201/937], Loss: 1.5461\n",
      "Epoch [15/15], Step [401/937], Loss: 1.4598\n",
      "Epoch [15/15], Step [601/937], Loss: 1.5125\n",
      "Epoch [15/15], Step [801/937], Loss: 1.5342\n"
     ]
    }
   ],
   "source": [
    "layers_dims=[784,500,250,100,10]\n",
    "train_acc,train_costs,trained_parameters=model1(train_dataset,layers_dims,15)"
   ]
  },
  {
   "cell_type": "code",
   "execution_count": 19,
   "id": "dc076022",
   "metadata": {},
   "outputs": [
    {
     "name": "stdout",
     "output_type": "stream",
     "text": [
      "2.006774976499433\n"
     ]
    }
   ],
   "source": [
    "print(np.mean(train_costs))"
   ]
  },
  {
   "cell_type": "code",
   "execution_count": 20,
   "id": "98cd96fa",
   "metadata": {},
   "outputs": [
    {
     "name": "stdout",
     "output_type": "stream",
     "text": [
      "0.8208333333333333\n"
     ]
    }
   ],
   "source": [
    "print(np.mean(train_acc))"
   ]
  },
  {
   "cell_type": "code",
   "execution_count": 21,
   "id": "52cd3648",
   "metadata": {},
   "outputs": [],
   "source": [
    "p=len(test_dataset)\n",
    "test_batches=p/batch_size\n",
    "# test_costs=[]\n",
    "# test_accuracy=[]\n",
    "# for i in range(int(test_batches)):\n",
    "loader = torch.utils.data.DataLoader(dataset=test_dataset,batch_size = p ,shuffle=True)\n",
    "dataiter = iter(loader)\n",
    "data = next(dataiter)\n",
    "X,y = data\n",
    "\n",
    "X=X.numpy()\n",
    "y=y.numpy()\n",
    "# Flatten the images\n",
    "image_vector_size = 28*28\n",
    "X = X.reshape(X.shape[0], image_vector_size)\n",
    "y_one_hot=convert_to_onehot(y,num_classes)\n",
    "y_hat,out_cache=forward_propagation(X,trained_parameters)\n",
    "#     test_costs.append(compute_cost(y_hat,y_one_hot.T))\n",
    "#     test_accuracy.append(find_accuracy(y_one_hot,y_hat))\n",
    "test_accuracy=find_accuracy(y_one_hot,y_hat)\n",
    "test_cost=compute_cost(y_hat,y_one_hot.T)"
   ]
  },
  {
   "cell_type": "code",
   "execution_count": 22,
   "id": "eade71b6",
   "metadata": {},
   "outputs": [],
   "source": [
    "k = np.argmax(y_hat,axis=0)\n"
   ]
  },
  {
   "cell_type": "code",
   "execution_count": 23,
   "id": "65fdae80",
   "metadata": {},
   "outputs": [
    {
     "data": {
      "text/plain": [
       "array([[ 959,    0,   10,    4,    1,   13,   16,    6,    4,   13],\n",
       "       [   0, 1108,    4,    1,    5,    2,    3,   11,    6,    8],\n",
       "       [   5,    1,  913,   19,    7,    5,    4,   32,    5,    3],\n",
       "       [   2,    3,   15,  906,    1,   44,    1,    2,   26,   11],\n",
       "       [   0,    1,   16,    0,  913,   15,   12,    6,    8,   45],\n",
       "       [   2,    2,    2,   27,    1,  752,   16,    0,   24,    8],\n",
       "       [   7,    4,   19,    2,    9,   18,  899,    0,   16,    1],\n",
       "       [   1,    1,   18,   18,    1,    9,    1,  942,   13,   22],\n",
       "       [   4,   15,   33,   23,   10,   27,    6,    3,  862,    7],\n",
       "       [   0,    0,    2,   10,   34,    7,    0,   26,   10,  891]],\n",
       "      dtype=int64)"
      ]
     },
     "execution_count": 23,
     "metadata": {},
     "output_type": "execute_result"
    }
   ],
   "source": [
    "from sklearn.metrics import confusion_matrix\n",
    "confusion_matrix(k, y)"
   ]
  },
  {
   "cell_type": "code",
   "execution_count": 24,
   "id": "010a5a65",
   "metadata": {},
   "outputs": [
    {
     "data": {
      "text/plain": [
       "Text(51.0, 0.5, 'truth')"
      ]
     },
     "execution_count": 24,
     "metadata": {},
     "output_type": "execute_result"
    },
    {
     "data": {
      "image/png": "[encoded data removed]",
      "text/plain": [
       "<Figure size 576x576 with 2 Axes>"
      ]
     },
     "metadata": {
      "needs_background": "light"
     },
     "output_type": "display_data"
    }
   ],
   "source": [
    "import seaborn as sn\n",
    "plt.figure(figsize=(8,8))\n",
    "sn.heatmap(confusion_matrix(k, y),annot=True,fmt='d')\n",
    "plt.xlabel('Predicted')\n",
    "plt.ylabel('truth')"
   ]
  },
  {
   "cell_type": "code",
   "execution_count": 25,
   "id": "d919b73d",
   "metadata": {},
   "outputs": [
    {
     "data": {
      "text/plain": [
       "(10, 10000)"
      ]
     },
     "execution_count": 25,
     "metadata": {},
     "output_type": "execute_result"
    }
   ],
   "source": [
    "y_hat.shape"
   ]
  },
  {
   "cell_type": "code",
   "execution_count": 26,
   "id": "ebb868ab",
   "metadata": {},
   "outputs": [
    {
     "name": "stdout",
     "output_type": "stream",
     "text": [
      "0.90625\n"
     ]
    }
   ],
   "source": [
    "print(train_acc[-1])"
   ]
  },
  {
   "cell_type": "code",
   "execution_count": 27,
   "id": "5d68127f",
   "metadata": {},
   "outputs": [
    {
     "name": "stdout",
     "output_type": "stream",
     "text": [
      "0.9145\n"
     ]
    }
   ],
   "source": [
    "print(test_accuracy)"
   ]
  },
  {
   "cell_type": "code",
   "execution_count": 28,
   "id": "51061d32",
   "metadata": {},
   "outputs": [
    {
     "data": {
      "image/png": "[encoded data removed]",
      "text/plain": [
       "<Figure size 432x288 with 1 Axes>"
      ]
     },
     "metadata": {
      "needs_background": "light"
     },
     "output_type": "display_data"
    }
   ],
   "source": [
    "plt.plot(train_costs)\n",
    "plt.show()"
   ]
  },
  {
   "cell_type": "code",
   "execution_count": 29,
   "id": "8bc838a5",
   "metadata": {},
   "outputs": [
    {
     "data": {
      "image/png": "[encoded data removed]",
      "text/plain": [
       "<Figure size 432x288 with 1 Axes>"
      ]
     },
     "metadata": {
      "needs_background": "light"
     },
     "output_type": "display_data"
    }
   ],
   "source": [
    "plt.plot(train_acc)\n",
    "plt.show()"
   ]
  },
  {
   "cell_type": "code",
   "execution_count": 30,
   "id": "4a67d0e5",
   "metadata": {},
   "outputs": [],
   "source": [
    "m=len(train_dataset)\n",
    "train_batches=m/batch_size\n",
    "# test_costs=[]\n",
    "# test_accuracy=[]\n",
    "# for i in range(int(test_batches)):\n",
    "loader = torch.utils.data.DataLoader(dataset=train_dataset,batch_size = m ,shuffle=True)\n",
    "dataiter = iter(loader)\n",
    "data = next(dataiter)\n",
    "X_train,y_train = data\n",
    "\n",
    "X_train=X_train.numpy()\n",
    "y_train=y_train.numpy()\n",
    "# Flatten the images\n",
    "image_vector_size = 28*28\n",
    "X_train = X_train.reshape(X_train.shape[0], image_vector_size)\n",
    "y_train_one_hot=convert_to_onehot(y_train,num_classes)\n",
    "y_train_hat,out_train_cache=forward_propagation(X_train,trained_parameters)\n",
    "#     test_costs.append(compute_cost(y_hat,y_one_hot.T))\n",
    "#     test_accuracy.append(find_accuracy(y_one_hot,y_hat))\n",
    "train_accuracy_final=find_accuracy(y_train_one_hot,y_train_hat)\n",
    "train_cost_final=compute_cost(y_train_hat,y_train_one_hot.T)"
   ]
  },
  {
   "cell_type": "code",
   "execution_count": 31,
   "id": "4b9ef330",
   "metadata": {},
   "outputs": [
    {
     "name": "stdout",
     "output_type": "stream",
     "text": [
      "0.9106166666666666\n"
     ]
    }
   ],
   "source": [
    "print(train_accuracy_final)"
   ]
  },
  {
   "cell_type": "code",
   "execution_count": 32,
   "id": "f0e160f3",
   "metadata": {},
   "outputs": [
    {
     "name": "stdout",
     "output_type": "stream",
     "text": [
      "0.5443640826355785\n"
     ]
    }
   ],
   "source": [
    "print(train_cost_final)"
   ]
  },
  {
   "cell_type": "code",
   "execution_count": null,
   "id": "6b8088d4",
   "metadata": {},
   "outputs": [],
   "source": []
  }
 ],
 "metadata": {
  "kernelspec": {
   "display_name": "Python 3 (ipykernel)",
   "language": "python",
   "name": "python3"
  },
  "language_info": {
   "codemirror_mode": {
    "name": "ipython",
    "version": 3
   },
   "file_extension": ".py",
   "mimetype": "text/x-python",
   "name": "python",
   "nbconvert_exporter": "python",
   "pygments_lexer": "ipython3",
   "version": "3.9.12"
  },
  "vscode": {
   "interpreter": {
    "hash": "00a1ae1e6deaa37076d141dc26cd1e058ef740ecaf1a0d690f5f0ccaa51e4cb2"
   }
  }
 },
 "nbformat": 4,
 "nbformat_minor": 5
}
