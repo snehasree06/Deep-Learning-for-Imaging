{
 "cells": [
  {
   "cell_type": "code",
   "execution_count": 1,
   "metadata": {
    "id": "1gofexyVrvy0"
   },
   "outputs": [],
   "source": [
    "import torch\n",
    "import torch.nn as nn\n",
    "import torchvision\n",
    "import torchvision.transforms as transforms\n",
    "import matplotlib.pyplot as plt"
   ]
  },
  {
   "cell_type": "code",
   "execution_count": 2,
   "metadata": {
    "id": "DjuRrOzVr8lr"
   },
   "outputs": [],
   "source": [
    "device = torch.device('cuda' if torch.cuda.is_available() else 'cpu')"
   ]
  },
  {
   "cell_type": "code",
   "execution_count": 3,
   "metadata": {
    "id": "7OL8huW2sBVu"
   },
   "outputs": [],
   "source": [
    "input_size = 784 # 28x28\n",
    "hidden_size_1 = 500 \n",
    "hidden_size_2 =250\n",
    "hidden_size_3 = 100\n",
    "num_classes = 10\n",
    "num_epochs = 15\n",
    "batch_size = 64\n",
    "learning_rate = 0.01"
   ]
  },
  {
   "cell_type": "code",
   "execution_count": 4,
   "metadata": {
    "id": "6rulD034sImA"
   },
   "outputs": [],
   "source": [
    "# Import MNIST dataset \n",
    "train_dataset = torchvision.datasets.MNIST(root='./data', \n",
    "                                           train=True, \n",
    "                                           transform=transforms.ToTensor(),  \n",
    "                                           download=True)\n",
    "\n",
    "test_dataset = torchvision.datasets.MNIST(root='./data', \n",
    "                                          train=False, \n",
    "                                          transform=transforms.ToTensor())"
   ]
  },
  {
   "cell_type": "code",
   "execution_count": 5,
   "metadata": {
    "id": "VYnbDIMo0W6M"
   },
   "outputs": [],
   "source": [
    "# Data loader\n",
    "train_loader = torch.utils.data.DataLoader(dataset=train_dataset, \n",
    "                                           batch_size=batch_size, \n",
    "                                           shuffle=True)\n",
    "\n",
    "test_loader = torch.utils.data.DataLoader(dataset=test_dataset, \n",
    "                                          batch_size=batch_size, \n",
    "                                          shuffle=False)\n"
   ]
  },
  {
   "cell_type": "code",
   "execution_count": 6,
   "metadata": {
    "colab": {
     "base_uri": "https://localhost:8080/",
     "height": 267
    },
    "id": "ycAsxmrG0ala",
    "outputId": "589b16df-44bd-4e09-ebde-2d14e9c471c2"
   },
   "outputs": [
    {
     "data": {
      "image/png": "[encoded data removed]",
      "text/plain": [
       "<Figure size 432x288 with 6 Axes>"
      ]
     },
     "metadata": {
      "needs_background": "light"
     },
     "output_type": "display_data"
    }
   ],
   "source": [
    "examples = iter(test_loader)\n",
    "example_data, example_targets = examples.next()\n",
    "\n",
    "for i in range(6):\n",
    "    plt.subplot(2,3,i+1)\n",
    "    plt.imshow(example_data[i][0], cmap='gray')\n",
    "plt.show()"
   ]
  },
  {
   "cell_type": "markdown",
   "metadata": {
    "id": "ysrRUbs_CuB9"
   },
   "source": []
  },
  {
   "cell_type": "code",
   "execution_count": 7,
   "metadata": {
    "id": "6z3xLeir_8JY"
   },
   "outputs": [],
   "source": [
    "# Fully connected neural network with one hidden layer\n",
    "class NeuralNet(nn.Module):\n",
    "    def __init__(self, input_size, hidden_size_1,hidden_size_2,hidden_size_3, num_classes):\n",
    "        super(NeuralNet, self).__init__()\n",
    "        self.input_size = input_size\n",
    "        self.l1 = nn.Linear(input_size, hidden_size_1) \n",
    "        self.relu = nn.ReLU()\n",
    "        self.l2 = nn.Linear(hidden_size_1, hidden_size_2)\n",
    "\n",
    "        self.l3 = nn.Linear(hidden_size_2, hidden_size_3)\n",
    "        \n",
    "        self.l4 = nn.Linear(hidden_size_3, num_classes)\n",
    "\n",
    "    \n",
    "    def forward(self, x):\n",
    "        out = self.l1(x)\n",
    "        out = self.relu(out)\n",
    "        out = self.l2(out)\n",
    "        out = self.relu(out)\n",
    "        out = self.l3(out)\n",
    "        out = self.relu(out)\n",
    "        out = self.l4(out)\n",
    "\n",
    "        # no activation and no softmax at the end\n",
    "        return (out)\n",
    "\n",
    "model = NeuralNet(input_size, hidden_size_1,hidden_size_2,hidden_size_3, num_classes).to(device)"
   ]
  },
  {
   "cell_type": "code",
   "execution_count": 8,
   "metadata": {
    "id": "fzDMJJLnCdFA"
   },
   "outputs": [],
   "source": [
    "# Loss and optimizer\n",
    "criterion = nn.CrossEntropyLoss()\n",
    "optimizer = torch.optim.Adam(model.parameters(), lr=learning_rate)"
   ]
  },
  {
   "cell_type": "code",
   "execution_count": 9,
   "metadata": {
    "colab": {
     "base_uri": "https://localhost:8080/"
    },
    "id": "nWXFSZUmDjhG",
    "outputId": "26800507-c714-4bfa-e1ec-923f1c9999ce"
   },
   "outputs": [
    {
     "name": "stdout",
     "output_type": "stream",
     "text": [
      "Epoch [1/15], Step [100/938], Loss: 0.2581\n",
      "Epoch [1/15], Step [200/938], Loss: 0.2747\n",
      "Epoch [1/15], Step [300/938], Loss: 0.2281\n",
      "Epoch [1/15], Step [400/938], Loss: 0.1042\n",
      "Epoch [1/15], Step [500/938], Loss: 0.2139\n",
      "Epoch [1/15], Step [600/938], Loss: 0.2940\n",
      "Epoch [1/15], Step [700/938], Loss: 0.0947\n",
      "Epoch [1/15], Step [800/938], Loss: 0.2214\n",
      "Epoch [1/15], Step [900/938], Loss: 0.1991\n",
      "Epoch [2/15], Step [100/938], Loss: 0.0450\n",
      "Epoch [2/15], Step [200/938], Loss: 0.2124\n",
      "Epoch [2/15], Step [300/938], Loss: 0.1869\n",
      "Epoch [2/15], Step [400/938], Loss: 0.0489\n",
      "Epoch [2/15], Step [500/938], Loss: 0.2822\n",
      "Epoch [2/15], Step [600/938], Loss: 0.2491\n",
      "Epoch [2/15], Step [700/938], Loss: 0.2265\n",
      "Epoch [2/15], Step [800/938], Loss: 0.0556\n",
      "Epoch [2/15], Step [900/938], Loss: 0.2898\n",
      "Epoch [3/15], Step [100/938], Loss: 0.0819\n",
      "Epoch [3/15], Step [200/938], Loss: 0.2581\n",
      "Epoch [3/15], Step [300/938], Loss: 0.1159\n",
      "Epoch [3/15], Step [400/938], Loss: 0.1926\n",
      "Epoch [3/15], Step [500/938], Loss: 0.2577\n",
      "Epoch [3/15], Step [600/938], Loss: 0.0987\n",
      "Epoch [3/15], Step [700/938], Loss: 0.2319\n",
      "Epoch [3/15], Step [800/938], Loss: 0.1737\n",
      "Epoch [3/15], Step [900/938], Loss: 0.1452\n",
      "Epoch [4/15], Step [100/938], Loss: 0.1727\n",
      "Epoch [4/15], Step [200/938], Loss: 0.0646\n",
      "Epoch [4/15], Step [300/938], Loss: 0.0442\n",
      "Epoch [4/15], Step [400/938], Loss: 0.1303\n",
      "Epoch [4/15], Step [500/938], Loss: 0.1170\n",
      "Epoch [4/15], Step [600/938], Loss: 0.0131\n",
      "Epoch [4/15], Step [700/938], Loss: 0.3043\n",
      "Epoch [4/15], Step [800/938], Loss: 0.0834\n",
      "Epoch [4/15], Step [900/938], Loss: 0.1112\n",
      "Epoch [5/15], Step [100/938], Loss: 0.0091\n",
      "Epoch [5/15], Step [200/938], Loss: 0.1427\n",
      "Epoch [5/15], Step [300/938], Loss: 0.0808\n",
      "Epoch [5/15], Step [400/938], Loss: 0.0235\n",
      "Epoch [5/15], Step [500/938], Loss: 0.0731\n",
      "Epoch [5/15], Step [600/938], Loss: 0.1651\n",
      "Epoch [5/15], Step [700/938], Loss: 0.0820\n",
      "Epoch [5/15], Step [800/938], Loss: 0.0624\n",
      "Epoch [5/15], Step [900/938], Loss: 0.0881\n",
      "Epoch [6/15], Step [100/938], Loss: 0.0867\n",
      "Epoch [6/15], Step [200/938], Loss: 0.1316\n",
      "Epoch [6/15], Step [300/938], Loss: 0.1170\n",
      "Epoch [6/15], Step [400/938], Loss: 0.1818\n",
      "Epoch [6/15], Step [500/938], Loss: 0.0014\n",
      "Epoch [6/15], Step [600/938], Loss: 0.1034\n",
      "Epoch [6/15], Step [700/938], Loss: 0.0249\n",
      "Epoch [6/15], Step [800/938], Loss: 0.1326\n",
      "Epoch [6/15], Step [900/938], Loss: 0.2127\n",
      "Epoch [7/15], Step [100/938], Loss: 0.1153\n",
      "Epoch [7/15], Step [200/938], Loss: 0.0170\n",
      "Epoch [7/15], Step [300/938], Loss: 0.0358\n",
      "Epoch [7/15], Step [400/938], Loss: 0.0307\n",
      "Epoch [7/15], Step [500/938], Loss: 0.1383\n",
      "Epoch [7/15], Step [600/938], Loss: 0.1282\n",
      "Epoch [7/15], Step [700/938], Loss: 0.0082\n",
      "Epoch [7/15], Step [800/938], Loss: 0.0484\n",
      "Epoch [7/15], Step [900/938], Loss: 0.0854\n",
      "Epoch [8/15], Step [100/938], Loss: 0.0140\n",
      "Epoch [8/15], Step [200/938], Loss: 0.0733\n",
      "Epoch [8/15], Step [300/938], Loss: 0.4819\n",
      "Epoch [8/15], Step [400/938], Loss: 0.1729\n",
      "Epoch [8/15], Step [500/938], Loss: 0.0671\n",
      "Epoch [8/15], Step [600/938], Loss: 0.0693\n",
      "Epoch [8/15], Step [700/938], Loss: 0.1193\n",
      "Epoch [8/15], Step [800/938], Loss: 0.1061\n",
      "Epoch [8/15], Step [900/938], Loss: 0.0699\n",
      "Epoch [9/15], Step [100/938], Loss: 0.0169\n",
      "Epoch [9/15], Step [200/938], Loss: 0.0014\n",
      "Epoch [9/15], Step [300/938], Loss: 0.1743\n",
      "Epoch [9/15], Step [400/938], Loss: 0.1307\n",
      "Epoch [9/15], Step [500/938], Loss: 0.2066\n",
      "Epoch [9/15], Step [600/938], Loss: 0.2246\n",
      "Epoch [9/15], Step [700/938], Loss: 0.1624\n",
      "Epoch [9/15], Step [800/938], Loss: 0.0635\n",
      "Epoch [9/15], Step [900/938], Loss: 0.1686\n",
      "Epoch [10/15], Step [100/938], Loss: 0.0670\n",
      "Epoch [10/15], Step [200/938], Loss: 0.0107\n",
      "Epoch [10/15], Step [300/938], Loss: 0.1556\n",
      "Epoch [10/15], Step [400/938], Loss: 0.1372\n",
      "Epoch [10/15], Step [500/938], Loss: 0.0250\n",
      "Epoch [10/15], Step [600/938], Loss: 1.0671\n",
      "Epoch [10/15], Step [700/938], Loss: 0.1790\n",
      "Epoch [10/15], Step [800/938], Loss: 0.2798\n",
      "Epoch [10/15], Step [900/938], Loss: 0.0285\n",
      "Epoch [11/15], Step [100/938], Loss: 0.0061\n",
      "Epoch [11/15], Step [200/938], Loss: 0.2333\n",
      "Epoch [11/15], Step [300/938], Loss: 0.1732\n",
      "Epoch [11/15], Step [400/938], Loss: 0.1060\n",
      "Epoch [11/15], Step [500/938], Loss: 0.1213\n",
      "Epoch [11/15], Step [600/938], Loss: 0.0376\n",
      "Epoch [11/15], Step [700/938], Loss: 0.6509\n",
      "Epoch [11/15], Step [800/938], Loss: 0.0328\n",
      "Epoch [11/15], Step [900/938], Loss: 0.1969\n",
      "Epoch [12/15], Step [100/938], Loss: 0.0699\n",
      "Epoch [12/15], Step [200/938], Loss: 0.0229\n",
      "Epoch [12/15], Step [300/938], Loss: 0.1089\n",
      "Epoch [12/15], Step [400/938], Loss: 0.0466\n",
      "Epoch [12/15], Step [500/938], Loss: 0.0306\n",
      "Epoch [12/15], Step [600/938], Loss: 0.1057\n",
      "Epoch [12/15], Step [700/938], Loss: 0.0451\n",
      "Epoch [12/15], Step [800/938], Loss: 0.0059\n",
      "Epoch [12/15], Step [900/938], Loss: 0.0925\n",
      "Epoch [13/15], Step [100/938], Loss: 0.1395\n",
      "Epoch [13/15], Step [200/938], Loss: 0.1343\n",
      "Epoch [13/15], Step [300/938], Loss: 0.0995\n",
      "Epoch [13/15], Step [400/938], Loss: 0.0034\n",
      "Epoch [13/15], Step [500/938], Loss: 0.0322\n",
      "Epoch [13/15], Step [600/938], Loss: 0.0170\n",
      "Epoch [13/15], Step [700/938], Loss: 0.0179\n",
      "Epoch [13/15], Step [800/938], Loss: 0.0033\n",
      "Epoch [13/15], Step [900/938], Loss: 0.0101\n",
      "Epoch [14/15], Step [100/938], Loss: 0.1109\n",
      "Epoch [14/15], Step [200/938], Loss: 0.0563\n",
      "Epoch [14/15], Step [300/938], Loss: 0.0117\n",
      "Epoch [14/15], Step [400/938], Loss: 0.0005\n",
      "Epoch [14/15], Step [500/938], Loss: 0.0816\n",
      "Epoch [14/15], Step [600/938], Loss: 0.0634\n",
      "Epoch [14/15], Step [700/938], Loss: 0.0007\n",
      "Epoch [14/15], Step [800/938], Loss: 0.0339\n",
      "Epoch [14/15], Step [900/938], Loss: 0.0169\n",
      "Epoch [15/15], Step [100/938], Loss: 0.2126\n",
      "Epoch [15/15], Step [200/938], Loss: 0.1379\n",
      "Epoch [15/15], Step [300/938], Loss: 0.0279\n",
      "Epoch [15/15], Step [400/938], Loss: 0.1497\n",
      "Epoch [15/15], Step [500/938], Loss: 0.0799\n",
      "Epoch [15/15], Step [600/938], Loss: 0.1085\n",
      "Epoch [15/15], Step [700/938], Loss: 0.0697\n",
      "Epoch [15/15], Step [800/938], Loss: 0.1953\n",
      "Epoch [15/15], Step [900/938], Loss: 0.0396\n"
     ]
    }
   ],
   "source": [
    "# Train the model\n",
    "loss_log = []\n",
    "n_total_steps = len(train_loader)\n",
    "for epoch in range(num_epochs):\n",
    "    for i, (images, labels) in enumerate(train_loader):  \n",
    "        # origin shape: [100, 1, 28, 28]\n",
    "        # resized: [100, 784]\n",
    "        images = images.reshape(-1, 28*28).to(device)\n",
    "        labels = labels.to(device)\n",
    "\n",
    "        # Forward pass\n",
    "        outputs = model(images)\n",
    "        loss = criterion(outputs, labels)\n",
    "\n",
    "        # Backward and optimize\n",
    "        optimizer.zero_grad()\n",
    "        loss.backward()\n",
    "        optimizer.step()\n",
    "\n",
    "\n",
    "        if (i+1) % 100 == 0:\n",
    "            print (f'Epoch [{epoch+1}/{num_epochs}], Step [{i+1}/{n_total_steps}], Loss: {loss.item():.4f}')\n",
    "            loss_log.append(loss.item())"
   ]
  },
  {
   "cell_type": "code",
   "execution_count": 10,
   "metadata": {
    "colab": {
     "base_uri": "https://localhost:8080/"
    },
    "id": "F3XJ15TvDn7R",
    "outputId": "b55b6485-c5d6-4ad1-8c8e-d1488d70f8f9"
   },
   "outputs": [
    {
     "name": "stdout",
     "output_type": "stream",
     "text": [
      "Accuracy of the network on the 10000 test images: 97.01 %\n"
     ]
    }
   ],
   "source": [
    "# Test the model\n",
    "# In test phase, we don't need to compute gradients (for memory efficiency)\n",
    "with torch.no_grad():\n",
    "    n_correct = 0\n",
    "    n_samples = 0\n",
    "    for images, labels in test_loader:\n",
    "        images = images.reshape(-1, 28*28).to(device)\n",
    "        labels = labels.to(device)\n",
    "        outputs = model(images)\n",
    "        # max returns (value ,index)\n",
    "        _, predicted = torch.max(outputs.data, 1)\n",
    "        n_samples += labels.size(0)\n",
    "        n_correct += (predicted == labels).sum().item()\n",
    "\n",
    "    acc = 100.0 * n_correct / n_samples\n",
    "    print(f'Accuracy of the network on the 10000 test images: {acc} %')"
   ]
  },
  {
   "cell_type": "code",
   "execution_count": 11,
   "metadata": {
    "colab": {
     "base_uri": "https://localhost:8080/",
     "height": 500
    },
    "id": "UorBeQziL6CK",
    "outputId": "4ccbe29c-18b1-475a-a99d-5f7803dd88cd"
   },
   "outputs": [
    {
     "data": {
      "text/plain": [
       "[<matplotlib.lines.Line2D at 0x7f5939cf1990>]"
      ]
     },
     "execution_count": 11,
     "metadata": {},
     "output_type": "execute_result"
    },
    {
     "data": {
      "image/png": "[encoded data removed]",
      "text/plain": [
       "<Figure size 720x576 with 1 Axes>"
      ]
     },
     "metadata": {
      "needs_background": "light"
     },
     "output_type": "display_data"
    }
   ],
   "source": [
    "plt.figure(figsize=(10,8))\n",
    "plt.plot(loss_log)"
   ]
  }
 ],
 "metadata": {
  "accelerator": "GPU",
  "colab": {
   "collapsed_sections": [],
   "name": "PA1_ReLu.ipynb",
   "provenance": []
  },
  "kernelspec": {
   "display_name": "Python 3 (ipykernel)",
   "language": "python",
   "name": "python3"
  },
  "language_info": {
   "codemirror_mode": {
    "name": "ipython",
    "version": 3
   },
   "file_extension": ".py",
   "mimetype": "text/x-python",
   "name": "python",
   "nbconvert_exporter": "python",
   "pygments_lexer": "ipython3",
   "version": "3.9.12"
  }
 },
 "nbformat": 4,
 "nbformat_minor": 1
}
